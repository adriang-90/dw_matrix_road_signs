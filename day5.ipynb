{
  "nbformat": 4,
  "nbformat_minor": 0,
  "metadata": {
    "colab": {
      "name": "day5.ipynb",
      "provenance": [],
      "mount_file_id": "1YmuthSYiD9e9TMqCa-9mdGqY8Mkk8Z5z",
      "authorship_tag": "ABX9TyMlNbprfvSfyQvbQmiu52Kt"
    },
    "kernelspec": {
      "name": "python3",
      "display_name": "Python 3"
    },
    "accelerator": "GPU"
  },
  "cells": [
    {
      "cell_type": "code",
      "metadata": {
        "id": "9diCn3Woq9Tu",
        "colab_type": "code",
        "colab": {}
      },
      "source": [
        "import pandas as pd\n",
        "import numpy as np\n",
        "import os\n",
        "import datetime\n",
        "import matplotlib.pyplot as plt\n",
        "from skimage import color, exposure\n",
        "from sklearn.metrics import accuracy_score\n",
        "\n",
        "import tensorflow as tf\n",
        "from tensorflow.keras.models import Sequential\n",
        "from tensorflow.keras.layers import Conv2D, MaxPool2D, Dense, Flatten, Dropout\n",
        "from tensorflow.keras.utils import to_categorical\n",
        "\n",
        "%load_ext tensorboard\n",
        "\n",
        "from hyperopt import hp, STATUS_OK, tpe, Trials, fmin"
      ],
      "execution_count": 0,
      "outputs": []
    },
    {
      "cell_type": "code",
      "metadata": {
        "id": "T4jmopLesKnr",
        "colab_type": "code",
        "colab": {
          "base_uri": "https://localhost:8080/",
          "height": 36
        },
        "outputId": "d5196a07-da30-414d-d200-baa4b3c6e5ac"
      },
      "source": [
        "cd '/content/drive/My Drive/Colab Notebooks/dw_matrix/matrix_three/dw_matrix_road_signs'"
      ],
      "execution_count": 4,
      "outputs": [
        {
          "output_type": "stream",
          "text": [
            "/content/drive/My Drive/Colab Notebooks/dw_matrix/matrix_three/dw_matrix_road_signs\n"
          ],
          "name": "stdout"
        }
      ]
    },
    {
      "cell_type": "code",
      "metadata": {
        "id": "1lIGTZGXsPGI",
        "colab_type": "code",
        "colab": {}
      },
      "source": [
        "train = pd.read_pickle('data/train.p')\n",
        "test = pd.read_pickle('data/test.p')\n",
        "\n",
        "\n",
        "X_train, y_train = train['features'], train['labels']\n",
        "X_test, y_test = test['features'], test['labels']"
      ],
      "execution_count": 0,
      "outputs": []
    },
    {
      "cell_type": "code",
      "metadata": {
        "id": "TqhgJyQdsUDU",
        "colab_type": "code",
        "colab": {}
      },
      "source": [
        "if y_train.ndim == 1: y_train = to_categorical(y_train)\n",
        "if y_test.ndim == 1: y_test = to_categorical(y_test)\n",
        "\n",
        "input_shape = X_train.shape[1:]\n",
        "num_classes = y_train.shape[1]"
      ],
      "execution_count": 0,
      "outputs": []
    },
    {
      "cell_type": "code",
      "metadata": {
        "id": "jDj-yeEQsb4f",
        "colab_type": "code",
        "colab": {}
      },
      "source": [
        "def train_model(model, X_train,y_train, params_fit={}):\n",
        "  model.compile(loss='categorical_crossentropy', optimizer='Adam', metrics=['accuracy'])\n",
        "\n",
        "  logdir = os.path.join(\"logs\", datetime.datetime.now().strftime(\"%Y%m%d-%H%M%S\"))\n",
        "  tensorboard_callback = tf.keras.callbacks.TensorBoard(logdir, histogram_freq=1)\n",
        "\n",
        "  model.fit(\n",
        "      X_train,\n",
        "      y_train,\n",
        "      batch_size=params_fit.get('batch_size', 128),\n",
        "      epochs=params_fit.get('epochs', 5),\n",
        "      verbose=params_fit.get('verbose', 1),\n",
        "      validation_data=params_fit.get('validation_data', (X_train,y_train)),\n",
        "      callbacks=[tensorboard_callback]\n",
        "  )\n",
        "  return model\n",
        "\n",
        "def predict(model_trained, X_test, y_test, scoring=accuracy_score):\n",
        "  y_test_norm = np.argmax(y_test, axis=1)       #true values\n",
        "\n",
        "  y_pred_prob = model_trained.predict(X_test)   #predicted values\n",
        "  y_pred = np.argmax(y_pred_prob, axis=1)       #shows where is the biggest probability\n",
        "\n",
        "  return scoring(y_test_norm, y_pred)"
      ],
      "execution_count": 0,
      "outputs": []
    },
    {
      "cell_type": "code",
      "metadata": {
        "id": "xM5aYrOIsnSG",
        "colab_type": "code",
        "colab": {}
      },
      "source": [
        "def get_cnn_v5(input_shape, num_classes):\n",
        "  return Sequential([\n",
        "    Conv2D(filters=32, kernel_size=(3, 3), activation='relu', input_shape=input_shape),\n",
        "    Conv2D(filters=32, kernel_size=(3, 3), activation='relu',padding='same'),\n",
        "    MaxPool2D(),\n",
        "    Dropout(0.3),\n",
        "    \n",
        "    Conv2D(filters=64, kernel_size=(3, 3), activation='relu', padding='same'),\n",
        "    Conv2D(filters=64, kernel_size=(3, 3), activation='relu'),\n",
        "    MaxPool2D(),\n",
        "    Dropout(0.3),\n",
        "\n",
        "\n",
        "    Conv2D(filters=64, kernel_size=(3, 3), activation='relu',padding='same'),\n",
        "    Conv2D(filters=64, kernel_size=(3, 3), activation='relu'),\n",
        "    MaxPool2D(),\n",
        "    Dropout(0.3),\n",
        "\n",
        "\n",
        "    Flatten(),\n",
        "\n",
        "    Dense(1024, activation='relu'),\n",
        "    Dropout(0.3),\n",
        "\n",
        "    Dense(1024, activation='relu'),\n",
        "    Dropout(0.3),\n",
        "\n",
        "\n",
        "    Dense(num_classes, activation='softmax'),\n",
        "])"
      ],
      "execution_count": 0,
      "outputs": []
    },
    {
      "cell_type": "code",
      "metadata": {
        "id": "iU39fEqAu7Jh",
        "colab_type": "code",
        "colab": {
          "base_uri": "https://localhost:8080/",
          "height": 223
        },
        "outputId": "f90dd44c-b326-4a27-bc44-5bee8215798a"
      },
      "source": [
        "model = get_cnn_v5(input_shape, num_classes)\n",
        "model_trained = train_model(model, X_train, y_train)\n",
        "predict(model_trained, X_test, y_test)"
      ],
      "execution_count": 9,
      "outputs": [
        {
          "output_type": "stream",
          "text": [
            "Epoch 1/5\n",
            "272/272 [==============================] - 5s 17ms/step - loss: 2.7662 - accuracy: 0.2623 - val_loss: 1.2209 - val_accuracy: 0.6117\n",
            "Epoch 2/5\n",
            "272/272 [==============================] - 4s 16ms/step - loss: 0.9858 - accuracy: 0.6865 - val_loss: 0.3230 - val_accuracy: 0.9098\n",
            "Epoch 3/5\n",
            "272/272 [==============================] - 4s 16ms/step - loss: 0.4819 - accuracy: 0.8481 - val_loss: 0.1409 - val_accuracy: 0.9606\n",
            "Epoch 4/5\n",
            "272/272 [==============================] - 4s 15ms/step - loss: 0.3346 - accuracy: 0.8972 - val_loss: 0.1135 - val_accuracy: 0.9675\n",
            "Epoch 5/5\n",
            "272/272 [==============================] - 4s 15ms/step - loss: 0.2454 - accuracy: 0.9254 - val_loss: 0.0661 - val_accuracy: 0.9821\n"
          ],
          "name": "stdout"
        },
        {
          "output_type": "execute_result",
          "data": {
            "text/plain": [
              "0.9541950113378684"
            ]
          },
          "metadata": {
            "tags": []
          },
          "execution_count": 9
        }
      ]
    },
    {
      "cell_type": "code",
      "metadata": {
        "id": "6GTUP7h1vo0c",
        "colab_type": "code",
        "colab": {
          "base_uri": "https://localhost:8080/",
          "height": 54
        },
        "outputId": "5dee8e67-b40a-4c33-dd35-f6389636745f"
      },
      "source": [
        "model_trained.evaluate(X_test, y_test)[1]"
      ],
      "execution_count": 10,
      "outputs": [
        {
          "output_type": "stream",
          "text": [
            "138/138 [==============================] - 0s 4ms/step - loss: 0.1630 - accuracy: 0.9542\n"
          ],
          "name": "stdout"
        },
        {
          "output_type": "execute_result",
          "data": {
            "text/plain": [
              "0.9541950225830078"
            ]
          },
          "metadata": {
            "tags": []
          },
          "execution_count": 10
        }
      ]
    },
    {
      "cell_type": "code",
      "metadata": {
        "id": "zSBF0yHw-tbL",
        "colab_type": "code",
        "colab": {}
      },
      "source": [
        "def get_model(params):\n",
        "  return Sequential([\n",
        "    Conv2D(filters=32, kernel_size=(3, 3), activation='relu', input_shape=input_shape),\n",
        "    Conv2D(filters=32, kernel_size=(3, 3), activation='relu',padding='same'),\n",
        "    MaxPool2D(),\n",
        "    Dropout(params['dropout_cnn_block_one']),\n",
        "    \n",
        "    Conv2D(filters=64, kernel_size=(3, 3), activation='relu', padding='same'),\n",
        "    Conv2D(filters=64, kernel_size=(3, 3), activation='relu'),\n",
        "    MaxPool2D(),\n",
        "    Dropout(params['dropout_cnn_block_two']),\n",
        "\n",
        "\n",
        "    Conv2D(filters=64, kernel_size=(3, 3), activation='relu',padding='same'),\n",
        "    Conv2D(filters=64, kernel_size=(3, 3), activation='relu'),\n",
        "    MaxPool2D(),\n",
        "    Dropout(params['dropout_cnn_block_three']),\n",
        "\n",
        "\n",
        "    Flatten(),\n",
        "\n",
        "    Dense(1024, activation='relu'),\n",
        "    Dropout(params['dropout_dense_block_one']),\n",
        "\n",
        "    Dense(1024, activation='relu'),\n",
        "    Dropout(params['dropout_dense_block_two']),\n",
        "\n",
        "\n",
        "    Dense(num_classes, activation='softmax'),\n",
        "])"
      ],
      "execution_count": 0,
      "outputs": []
    },
    {
      "cell_type": "code",
      "metadata": {
        "id": "d0zzOepdxleK",
        "colab_type": "code",
        "colab": {}
      },
      "source": [
        "def func_obj(params):\n",
        "  model = get_model(params)\n",
        "  model.compile(loss = 'categorical_crossentropy', optimizer = 'Adam', metrics = ['accuracy'])\n",
        "\n",
        "  model.fit(\n",
        "      X_train,\n",
        "      y_train,\n",
        "      batch_size=int(params.get('batch_size', 128)),\n",
        "      epochs=5,\n",
        "      verbose=0\n",
        "  )\n",
        "  score = model.evaluate(X_test, y_test, verbose=0)\n",
        "  accuracy = score[1]\n",
        "  print(params, 'accuracy={}'.format(accuracy))\n",
        "  return {'loss': -accuracy, 'status': STATUS_OK, 'model': model}"
      ],
      "execution_count": 0,
      "outputs": []
    },
    {
      "cell_type": "code",
      "metadata": {
        "id": "3wwWuXvdzUt0",
        "colab_type": "code",
        "colab": {
          "base_uri": "https://localhost:8080/",
          "height": 1000
        },
        "outputId": "32e8afce-f1af-4de4-ddef-67b9b547962a"
      },
      "source": [
        "space = {\n",
        "    'batch_size': hp.quniform('batch_size', 50, 200, 20),\n",
        "    'dropout_cnn_block_one': hp.uniform('dropout_cnn_block_one', 0.2, 0.6),\n",
        "    'dropout_cnn_block_two': hp.uniform('dropout_cnn_block_two', 0.2, 0.6),\n",
        "    'dropout_cnn_block_three': hp.uniform('dropout_cnn_block_three', 0.2, 0.6),\n",
        "\n",
        "    'dropout_dense_block_one': hp.uniform('dropout_dense_block_one', 0.2, 0.6),\n",
        "    'dropout_dense_block_two': hp.uniform('dropout_dense_block_two', 0.2, 0.6)\n",
        "\n",
        "\n",
        "}\n",
        "\n",
        "best = fmin(\n",
        "    func_obj,\n",
        "    space,\n",
        "    tpe.suggest,\n",
        "    30,\n",
        "    Trials()\n",
        ")"
      ],
      "execution_count": 36,
      "outputs": [
        {
          "output_type": "stream",
          "text": [
            "{'batch_size': 100.0, 'dropout_cnn_block_one': 0.25058605712400944, 'dropout_cnn_block_three': 0.45943531942519583, 'dropout_cnn_block_two': 0.30100859418169046, 'dropout_dense_block_one': 0.2024703012286162, 'dropout_dense_block_two': 0.2117312287813828}\n",
            "accuracy=0.9655328989028931\n",
            "{'batch_size': 60.0, 'dropout_cnn_block_one': 0.4804852370565796, 'dropout_cnn_block_three': 0.34183324319368424, 'dropout_cnn_block_two': 0.26093626218821847, 'dropout_dense_block_one': 0.43477389492104734, 'dropout_dense_block_two': 0.47004495304380606}\n",
            "accuracy=0.9410430788993835\n",
            "{'batch_size': 140.0, 'dropout_cnn_block_one': 0.5487734127001462, 'dropout_cnn_block_three': 0.29719307836866893, 'dropout_cnn_block_two': 0.2702989565715414, 'dropout_dense_block_one': 0.2916686326012327, 'dropout_dense_block_two': 0.4722795709618532}\n",
            "accuracy=0.8954648375511169\n",
            "{'batch_size': 60.0, 'dropout_cnn_block_one': 0.5126378397460919, 'dropout_cnn_block_three': 0.3728687638432876, 'dropout_cnn_block_two': 0.4133375650972695, 'dropout_dense_block_one': 0.5528439122274103, 'dropout_dense_block_two': 0.3212665779976228}\n",
            "accuracy=0.8938775658607483\n",
            "{'batch_size': 160.0, 'dropout_cnn_block_one': 0.5660055464427466, 'dropout_cnn_block_three': 0.20182951636684524, 'dropout_cnn_block_two': 0.5839834675356904, 'dropout_dense_block_one': 0.5852322103279632, 'dropout_dense_block_two': 0.3325878844182519}\n",
            "accuracy=0.7401360273361206\n",
            "{'batch_size': 160.0, 'dropout_cnn_block_one': 0.31203309679723645, 'dropout_cnn_block_three': 0.5187167950763887, 'dropout_cnn_block_two': 0.42701504266784623, 'dropout_dense_block_one': 0.5260789982905394, 'dropout_dense_block_two': 0.21162930673415886}\n",
            "accuracy=0.9258503317832947\n",
            "{'batch_size': 120.0, 'dropout_cnn_block_one': 0.5212879338531847, 'dropout_cnn_block_three': 0.5275400182315615, 'dropout_cnn_block_two': 0.4097786814174619, 'dropout_dense_block_one': 0.31630254037664945, 'dropout_dense_block_two': 0.42706249133456126}\n",
            "accuracy=0.8047618865966797\n",
            "{'batch_size': 100.0, 'dropout_cnn_block_one': 0.20117648509853697, 'dropout_cnn_block_three': 0.5881059807712281, 'dropout_cnn_block_two': 0.5990378529081548, 'dropout_dense_block_one': 0.42757265575991865, 'dropout_dense_block_two': 0.5637995616489726}\n",
            "accuracy=0.8498865962028503\n",
            "{'batch_size': 100.0, 'dropout_cnn_block_one': 0.2518154315937137, 'dropout_cnn_block_three': 0.3973147009042839, 'dropout_cnn_block_two': 0.5694849761848915, 'dropout_dense_block_one': 0.4727366163910812, 'dropout_dense_block_two': 0.5561803405369572}\n",
            "accuracy=0.9303854703903198\n",
            "{'batch_size': 140.0, 'dropout_cnn_block_one': 0.35839356906377945, 'dropout_cnn_block_three': 0.28626477009140955, 'dropout_cnn_block_two': 0.3586897828632202, 'dropout_dense_block_one': 0.4946849290991469, 'dropout_dense_block_two': 0.5783430544562607}\n",
            "accuracy=0.963718831539154\n",
            "{'batch_size': 180.0, 'dropout_cnn_block_one': 0.530136163125412, 'dropout_cnn_block_three': 0.5322175573415022, 'dropout_cnn_block_two': 0.4455776178342798, 'dropout_dense_block_one': 0.43598237425985886, 'dropout_dense_block_two': 0.4451937530911102}\n",
            "accuracy=0.8029478192329407\n",
            "{'batch_size': 100.0, 'dropout_cnn_block_one': 0.4884626820070089, 'dropout_cnn_block_three': 0.5198790270506819, 'dropout_cnn_block_two': 0.24263762627996244, 'dropout_dense_block_one': 0.4194677127630723, 'dropout_dense_block_two': 0.2318038094483796}\n",
            "accuracy=0.9358276724815369\n",
            "{'batch_size': 60.0, 'dropout_cnn_block_one': 0.31504965823480435, 'dropout_cnn_block_three': 0.3466630263687366, 'dropout_cnn_block_two': 0.4204651364228995, 'dropout_dense_block_one': 0.3443370566193892, 'dropout_dense_block_two': 0.4863989585103672}\n",
            "accuracy=0.9573696255683899\n",
            "{'batch_size': 200.0, 'dropout_cnn_block_one': 0.3467964919082752, 'dropout_cnn_block_three': 0.5112293992030403, 'dropout_cnn_block_two': 0.4106885544469312, 'dropout_dense_block_one': 0.2362821260231487, 'dropout_dense_block_two': 0.325891452893781}\n",
            "accuracy=0.9433106780052185\n",
            "{'batch_size': 80.0, 'dropout_cnn_block_one': 0.5281626240704551, 'dropout_cnn_block_three': 0.522461592844635, 'dropout_cnn_block_two': 0.4221329004305196, 'dropout_dense_block_one': 0.3595445445382778, 'dropout_dense_block_two': 0.3235257437246754}\n",
            "accuracy=0.6510204076766968\n",
            "{'batch_size': 60.0, 'dropout_cnn_block_one': 0.5865051872538078, 'dropout_cnn_block_three': 0.3578093592031617, 'dropout_cnn_block_two': 0.46373740397034363, 'dropout_dense_block_one': 0.5943090329038386, 'dropout_dense_block_two': 0.44714970043224067}\n",
            "accuracy=0.6505668759346008\n",
            "{'batch_size': 60.0, 'dropout_cnn_block_one': 0.22605810584904848, 'dropout_cnn_block_three': 0.25170833487403793, 'dropout_cnn_block_two': 0.45621944483563853, 'dropout_dense_block_one': 0.43001027968190253, 'dropout_dense_block_two': 0.5243481218595987}\n",
            "accuracy=0.9541950225830078\n",
            "{'batch_size': 140.0, 'dropout_cnn_block_one': 0.3305854393205826, 'dropout_cnn_block_three': 0.35319572756190054, 'dropout_cnn_block_two': 0.593020338363063, 'dropout_dense_block_one': 0.4136034863835759, 'dropout_dense_block_two': 0.3233304732534771}\n",
            "accuracy=0.9455782175064087\n",
            "{'batch_size': 80.0, 'dropout_cnn_block_one': 0.5796252835254048, 'dropout_cnn_block_three': 0.26644338556388913, 'dropout_cnn_block_two': 0.287954753276537, 'dropout_dense_block_one': 0.43346661232548134, 'dropout_dense_block_two': 0.5857170647497405}\n",
            "accuracy=0.878911554813385\n",
            "{'batch_size': 100.0, 'dropout_cnn_block_one': 0.345544445263188, 'dropout_cnn_block_three': 0.38543349777747393, 'dropout_cnn_block_two': 0.2436316444525679, 'dropout_dense_block_one': 0.25582808542946023, 'dropout_dense_block_two': 0.5303257052513963}\n",
            "accuracy=0.9759637117385864\n",
            "{'batch_size': 120.0, 'dropout_cnn_block_one': 0.41943029149889466, 'dropout_cnn_block_three': 0.45183646782577136, 'dropout_cnn_block_two': 0.2058712408087601, 'dropout_dense_block_one': 0.2062390351489156, 'dropout_dense_block_two': 0.3918486204401451}\n",
            "accuracy=0.9698412418365479\n",
            "{'batch_size': 120.0, 'dropout_cnn_block_one': 0.4214201161231976, 'dropout_cnn_block_three': 0.4465109317754688, 'dropout_cnn_block_two': 0.20080571697948996, 'dropout_dense_block_one': 0.2418882751929116, 'dropout_dense_block_two': 0.3741012249662172}\n",
            "accuracy=0.8999999761581421\n",
            "{'batch_size': 80.0, 'dropout_cnn_block_one': 0.4206198868806136, 'dropout_cnn_block_three': 0.44374101700021684, 'dropout_cnn_block_two': 0.33900049952158273, 'dropout_dense_block_one': 0.2008541373421163, 'dropout_dense_block_two': 0.3804792629993232}\n",
            "accuracy=0.8913832306861877\n",
            "{'batch_size': 120.0, 'dropout_cnn_block_one': 0.3876182954254044, 'dropout_cnn_block_three': 0.41629744103081556, 'dropout_cnn_block_two': 0.20772783384927587, 'dropout_dense_block_one': 0.2665963288733351, 'dropout_dense_block_two': 0.2635934737844318}\n",
            "accuracy=0.9580498933792114\n",
            "{'batch_size': 160.0, 'dropout_cnn_block_one': 0.455392725932495, 'dropout_cnn_block_three': 0.4805514670634064, 'dropout_cnn_block_two': 0.22554740198000556, 'dropout_dense_block_one': 0.23941302340520446, 'dropout_dense_block_two': 0.5147973310326751}\n",
            "accuracy=0.9074829816818237\n",
            "{'batch_size': 80.0, 'dropout_cnn_block_one': 0.2860710689755618, 'dropout_cnn_block_three': 0.5978808579529524, 'dropout_cnn_block_two': 0.5129599112830583, 'dropout_dense_block_one': 0.37242444375003514, 'dropout_dense_block_two': 0.40641513025194614}\n",
            "accuracy=0.8916099667549133\n",
            "{'batch_size': 120.0, 'dropout_cnn_block_one': 0.37905074029360397, 'dropout_cnn_block_three': 0.40321202251260324, 'dropout_cnn_block_two': 0.32936374521218176, 'dropout_dense_block_one': 0.3104812984197432, 'dropout_dense_block_two': 0.2808761767237049}\n",
            "accuracy=0.9596371650695801\n",
            "{'batch_size': 140.0, 'dropout_cnn_block_one': 0.43611712982784784, 'dropout_cnn_block_three': 0.32365611122670074, 'dropout_cnn_block_two': 0.377829258512946, 'dropout_dense_block_one': 0.20108471226622526, 'dropout_dense_block_two': 0.3610644134646852}\n",
            "accuracy=0.9575963616371155\n",
            "{'batch_size': 100.0, 'dropout_cnn_block_one': 0.27012680709470643, 'dropout_cnn_block_three': 0.4748093590101676, 'dropout_cnn_block_two': 0.30050150619863714, 'dropout_dense_block_one': 0.27541843442806724, 'dropout_dense_block_two': 0.530660041782511}\n",
            "accuracy=0.9612244963645935\n",
            "{'batch_size': 100.0, 'dropout_cnn_block_one': 0.4033175370909005, 'dropout_cnn_block_three': 0.5656286106682543, 'dropout_cnn_block_two': 0.22961096996619276, 'dropout_dense_block_one': 0.21845489999926893, 'dropout_dense_block_two': 0.4081706377009567}\n",
            "accuracy=0.9596371650695801\n",
            "100%|██████████| 30/30 [06:13<00:00, 12.47s/it, best loss: -0.9759637117385864]\n"
          ],
          "name": "stdout"
        }
      ]
    },
    {
      "cell_type": "code",
      "metadata": {
        "id": "F2NXqbPhE8ee",
        "colab_type": "code",
        "colab": {}
      },
      "source": [
        ""
      ],
      "execution_count": 0,
      "outputs": []
    }
  ]
}